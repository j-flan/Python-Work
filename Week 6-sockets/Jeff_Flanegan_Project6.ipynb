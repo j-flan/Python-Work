{
 "cells": [
  {
   "cell_type": "markdown",
   "metadata": {},
   "source": [
    "<p><strong>Jeff Flanegan</strong><br>CSC 217<br>Project 6<br>2019-9-24</p>"
   ]
  },
  {
   "cell_type": "markdown",
   "metadata": {},
   "source": [
    "<br><p><strong>Exercise 1:</strong> Change the socket program socket1.py to prompt the user for the\n",
    "URL so it can read any web page. You can use split(’/’) to break the URL into\n",
    "its component parts so you can extract the host name for the socket connect call.\n",
    "Add error checking using try and except to handle the condition where the user\n",
    "enters an improperly formatted or non-existent URL.</p>"
   ]
  },
  {
   "cell_type": "code",
   "execution_count": 76,
   "metadata": {
    "scrolled": true
   },
   "outputs": [
    {
     "name": "stdout",
     "output_type": "stream",
     "text": [
      "Enter url -http://data.pr4e.org/romeo.txt\n",
      "Enter path - http://data.pr4e.org/romeo.txt\n",
      "HTTP/1.1 200 OK\n",
      "Date: Tue, 24 Sep 2019 16:56:03 GMT\n",
      "Server: Apache/2.4.18 (Ubuntu)\n",
      "Last-Modified: Sat, 13 May 2017 11:22:22 GMT\n",
      "ETag: \"a7-54f6609245537\"\n",
      "Accept-Ranges: bytes\n",
      "Content-Length: 167\n",
      "Cache-Control: max-age=0, no-cache, no-store, must-revalidate\n",
      "Pragma: no-cache\n",
      "Expires: Wed, 11 Jan 1984 05:00:00 GMT\n",
      "Connection: close\n",
      "Content-Type: text/plain\n",
      "\n",
      "But soft what light through yonder window breaks\n",
      "It is the east and Juliet is the sun\n",
      "Arise fair sun and kill the envious moon\n",
      "Who is already s\n",
      "ick and pale with grief\n",
      "\n"
     ]
    }
   ],
   "source": [
    "import socket\n",
    "mysock = socket.socket(socket.AF_INET, socket.SOCK_STREAM)\n",
    "#user enters http address and attempts socket connection\n",
    "try:\n",
    "    fhand = input('Enter url -')\n",
    "    fhand2 = fhand.split('/')[2] #parse address\n",
    "    mysock.connect((fhand2, 80))\n",
    "#handle error exception\n",
    "except:\n",
    "    print('url does not exist')\n",
    "    raise SystemExit\n",
    "#user enters path to data\n",
    "stuff = input('Enter path - ')\n",
    "cmd1 = 'GET ' + stuff + ' HTTP/1.0\\r\\n\\r\\n' #add necessities\n",
    "cmd = cmd1.encode() \n",
    "mysock.send(cmd)\n",
    "#pull info until null\n",
    "while True:\n",
    "    data = mysock.recv(512)\n",
    "    if (len(data) < 1):\n",
    "        break\n",
    "    print(data.decode())\n",
    "mysock.close()"
   ]
  },
  {
   "cell_type": "markdown",
   "metadata": {},
   "source": [
    "<br><p><strong>Exercise 2:</strong> Change your socket program so that it counts the number of charac-\n",
    "ters it has received and stops displaying any text after it has shown 3000 characters.\n",
    "The program should retrieve the entire document and count the total number of\n",
    "characters and display the count of the number of characters at the end of the\n",
    "document. (This code counts the header script in char count).</p>"
   ]
  },
  {
   "cell_type": "code",
   "execution_count": 77,
   "metadata": {
    "scrolled": true
   },
   "outputs": [
    {
     "name": "stdout",
     "output_type": "stream",
     "text": [
      "Enter url -http://data.pr4e.org\n",
      "Enter path - http://data.pr4e.org/mbox.txt\n",
      "HTTP/1.1 200 OK\n",
      "Date: Tue, 24 Sep 2019 16:56:24 GMT\n",
      "Server: Apache/2.4.18 (Ubuntu)\n",
      "Last-Modified: Sat, 13 May 2017 11:22:22 GMT\n",
      "ETag: \"66091a-54f6609245537\"\n",
      "Accept-Ranges: bytes\n",
      "Content-Length: 6687002\n",
      "Cache-Control: max-age=0, no-cache, no-store, must-revalidate\n",
      "Pragma: no-cache\n",
      "Expires: Wed, 11 Jan 1984 05:00:00 GMT\n",
      "Connection: close\n",
      "Content-Type: text/plain\n",
      "\n",
      "From stephen.marquard@uct.ac.za Sat Jan  5 09:14:16 2008\n",
      "Return-Path: <postmaster@collab.sakaiproject.org>\n",
      "Received: from murder (mail.umich.edu [141.211.14.90])\n",
      "\t by frankenstein.mail.umich.edu (Cyrus v2.3.8) with LMTPA;\n",
      "\t Sat, 05 Jan 2008 09:14:16 -0500\n",
      "X-Sieve: CMU Sieve 2.3\n",
      "Received: from murder ([unix socket])\n",
      "\t by mail.umich.edu (Cyrus v2.2.12) with LMTPA;\n",
      "\t Sat, 05 Jan 2008 09:14:16 -0500\n",
      "Received: from holes.mr.itd.umich.edu (holes.mr.itd.umich.edu [141.211.14.79])\n",
      "\tby flawless.mail.umich.edu () with ESMTP id m05EEFR1013674;\n",
      "\tSat, 5 Jan 2008 09:14:15 -0500\n",
      "Received: FROM paploo.uhi.ac.uk (app1.prod.collab.uhi.ac.uk [194.35.219.184])\n",
      "\tBY holes.mr.itd.umich.edu ID 477F90B0.2DB2F.12494 ; \n",
      "\t 5 Jan 2008 09:14:10 -0500\n",
      "Received: from paploo.uhi.ac.uk (localhost [127.0.0.1])\n",
      "\tby paploo.uhi.ac.uk (Postfix) with ESMTP id 5F919BC2F2;\n",
      "\tSat,  5 Jan 2008 14:10:05 +0000 (GMT)\n",
      "Message-ID: <200801051412.m05ECIaH010327@nakamura.uits.iupui.edu>\n",
      "Mime-Version: 1.0\n",
      "Content-Transfer-Encoding: 7bit\n",
      "Received: from prod.collab.uhi.ac.uk ([194.35.219.182])\n",
      "          by paploo.uhi.ac.uk (JAMES SMTP Server 2.1.3) with SMTP ID 899\n",
      "          for <source@collab.sakaiproject.org>;\n",
      "          Sat, 5 Jan 2008 14:09:50 +0000 (GMT)\n",
      "Received: from nakamura.uits.iupui.edu (nakamura.uits.iupui.edu [134.68.220.122])\n",
      "\tby shmi.uhi.ac.uk (Postfix) with ESMTP id A215243002\n",
      "\tfor <source@collab.sakaiproject.org>; Sat,  5 Jan 2008 14:13:33 +0000 (GMT)\n",
      "Received: from nakamura.uits.iupui.edu (localhost [127.0.0.1])\n",
      "\tby nakamura.uits.iupui.edu (8.12.11.20060308/8.12.11) with ESMTP id m05ECJVp010329\n",
      "\tfor <source@collab.sakaiproject.org>; Sat, 5 Jan 2008 09:12:19 -0500\n",
      "Received: (from apache@localhost)\n",
      "\tby nakamura.uits.iupui.edu (8.12.11.20060308/8.12.11/Submit) id m05ECIaH010327\n",
      "\tfor source@collab.sakaiproject.org; Sat, 5 Jan 2008 09:12:18 -0500\n",
      "Date: Sat, 5 Jan 2008 09:12:18 -0500\n",
      "X-Authentication-Warning: nakamura.uits.iupui.edu: apache set sender to stephen.marquard@uct.ac.za using -f\n",
      "To: source@collab.sakaiproject.org\n",
      "From: stephen.marquard@uct.ac.za\n",
      "Subject: [sakai] svn commit: r39772 - content/branches/sakai_2-5-x/content-impl/impl/src/java/org/sakaiproject/content/impl\n",
      "X-Content-Type-Outer-Envelope: text/plain; charset=UTF-8\n",
      "X-Content-Type-Message-Body: text/plain; charset=UTF-8\n",
      "Content-Type: text/plain; charset=UTF-8\n",
      "X-DSPAM-Result: Innocent\n",
      "X-DSPAM-Processed: Sat Jan  5 09:14:16 2008\n",
      "X-DSPAM-Confidence: 0.8475\n",
      "X-DSPAM-Probability: 0.0000\n",
      "\n",
      "Details: http://source.sakaiproject.org/viewsvn/?view=rev&rev=39772\n",
      "\n",
      "Author: stephen.marquard@uct.ac.za\n",
      "Date: 2008-01-05 09:12:07 -0500 (Sat, 05 Jan 2008)\n",
      "New Revision: 39772\n",
      "\n",
      "There are  6687379  characters\n"
     ]
    }
   ],
   "source": [
    "import socket\n",
    "import string\n",
    "mysock = socket.socket(socket.AF_INET, socket.SOCK_STREAM)\n",
    "#user enters http address and attempts socket connection\n",
    "try:\n",
    "    fhand = input('Enter url -')\n",
    "    fhand2 = fhand.split('/')[2] #parse address\n",
    "    mysock.connect((fhand2, 80))\n",
    "#handle error exception\n",
    "except:\n",
    "    print('url does not exist')\n",
    "    raise SystemExit\n",
    "#user enters path to data\n",
    "stuff = input('Enter path - ')\n",
    "cmd1 = 'GET ' + stuff + ' HTTP/1.0\\r\\n\\r\\n' #add necessities\n",
    "cmd = cmd1.encode() \n",
    "mysock.send(cmd)\n",
    "#pull info until null\n",
    "count = 0 \n",
    "while True:\n",
    "    #grab 512 characters at a time\n",
    "    data = mysock.recv(512)\n",
    "    if (len(data) < 1):\n",
    "        break\n",
    "    chunk = data.decode()\n",
    "    for i in chunk:\n",
    "        #count chars including header chars\n",
    "        count += 1\n",
    "        if (count <= 3000):\n",
    "            print(i, end = '')   \n",
    "mysock.close()\n",
    "#print number of total chars\n",
    "print('\\n\\nThere are ', count, ' characters' )\n",
    "    "
   ]
  },
  {
   "cell_type": "markdown",
   "metadata": {},
   "source": [
    "<br><p><strong>Exercise 3:</strong> Use urllib to replicate the previous exercise of (1) retrieving the\n",
    "document from a URL, (2) displaying up to 3000 characters, and (3) counting the\n",
    "overall number of characters in the document. Don’t worry about the headers for\n",
    "this exercise, simply show the first 3000 characters of the document contents.</p>"
   ]
  },
  {
   "cell_type": "code",
   "execution_count": 54,
   "metadata": {
    "scrolled": true
   },
   "outputs": [
    {
     "name": "stdout",
     "output_type": "stream",
     "text": [
      "Enter full path - http://data.pr4e.org/mbox.txt\n",
      "From stephen.marquard@uct.ac.za Sat Jan  5 09:14:16 2008\n",
      "Return-Path: <postmaster@collab.sakaiproject.org>\n",
      "Received: from murder (mail.umich.edu [141.211.14.90])\n",
      "\t by frankenstein.mail.umich.edu (Cyrus v2.3.8) with LMTPA;\n",
      "\t Sat, 05 Jan 2008 09:14:16 -0500\n",
      "X-Sieve: CMU Sieve 2.3\n",
      "Received: from murder ([unix socket])\n",
      "\t by mail.umich.edu (Cyrus v2.2.12) with LMTPA;\n",
      "\t Sat, 05 Jan 2008 09:14:16 -0500\n",
      "Received: from holes.mr.itd.umich.edu (holes.mr.itd.umich.edu [141.211.14.79])\n",
      "\tby flawless.mail.umich.edu () with ESMTP id m05EEFR1013674;\n",
      "\tSat, 5 Jan 2008 09:14:15 -0500\n",
      "Received: FROM paploo.uhi.ac.uk (app1.prod.collab.uhi.ac.uk [194.35.219.184])\n",
      "\tBY holes.mr.itd.umich.edu ID 477F90B0.2DB2F.12494 ; \n",
      "\t 5 Jan 2008 09:14:10 -0500\n",
      "Received: from paploo.uhi.ac.uk (localhost [127.0.0.1])\n",
      "\tby paploo.uhi.ac.uk (Postfix) with ESMTP id 5F919BC2F2;\n",
      "\tSat,  5 Jan 2008 14:10:05 +0000 (GMT)\n",
      "Message-ID: <200801051412.m05ECIaH010327@nakamura.uits.iupui.edu>\n",
      "Mime-Version: 1.0\n",
      "Content-Transfer-Encoding: 7bit\n",
      "Received: from prod.collab.uhi.ac.uk ([194.35.219.182])\n",
      "          by paploo.uhi.ac.uk (JAMES SMTP Server 2.1.3) with SMTP ID 899\n",
      "          for <source@collab.sakaiproject.org>;\n",
      "          Sat, 5 Jan 2008 14:09:50 +0000 (GMT)\n",
      "Received: from nakamura.uits.iupui.edu (nakamura.uits.iupui.edu [134.68.220.122])\n",
      "\tby shmi.uhi.ac.uk (Postfix) with ESMTP id A215243002\n",
      "\tfor <source@collab.sakaiproject.org>; Sat,  5 Jan 2008 14:13:33 +0000 (GMT)\n",
      "Received: from nakamura.uits.iupui.edu (localhost [127.0.0.1])\n",
      "\tby nakamura.uits.iupui.edu (8.12.11.20060308/8.12.11) with ESMTP id m05ECJVp010329\n",
      "\tfor <source@collab.sakaiproject.org>; Sat, 5 Jan 2008 09:12:19 -0500\n",
      "Received: (from apache@localhost)\n",
      "\tby nakamura.uits.iupui.edu (8.12.11.20060308/8.12.11/Submit) id m05ECIaH010327\n",
      "\tfor source@collab.sakaiproject.org; Sat, 5 Jan 2008 09:12:18 -0500\n",
      "Date: Sat, 5 Jan 2008 09:12:18 -0500\n",
      "X-Authentication-Warning: nakamura.uits.iupui.edu: apache set sender to stephen.marquard@uct.ac.za using -f\n",
      "To: source@collab.sakaiproject.org\n",
      "From: stephen.marquard@uct.ac.za\n",
      "Subject: [sakai] svn commit: r39772 - content/branches/sakai_2-5-x/content-impl/impl/src/java/org/sakaiproject/content/impl\n",
      "X-Content-Type-Outer-Envelope: text/plain; charset=UTF-8\n",
      "X-Content-Type-Message-Body: text/plain; charset=UTF-8\n",
      "Content-Type: text/plain; charset=UTF-8\n",
      "X-DSPAM-Result: Innocent\n",
      "X-DSPAM-Processed: Sat Jan  5 09:14:16 2008\n",
      "X-DSPAM-Confidence: 0.8475\n",
      "X-DSPAM-Probability: 0.0000\n",
      "\n",
      "Details: http://source.sakaiproject.org/viewsvn/?view=rev&rev=39772\n",
      "\n",
      "Author: stephen.marquard@uct.ac.za\n",
      "Date: 2008-01-05 09:12:07 -0500 (Sat, 05 Jan 2008)\n",
      "New Revision: 39772\n",
      "\n",
      "Modified:\n",
      "content/branches/sakai_2-5-x/content-impl/impl/src/java/org/sakaiproject/content/impl/ContentServiceSqlOracle.java\n",
      "content/branches/sakai_2-5-x/content-impl/impl/src/java/org/sakaiproject/content/impl/DbContentService.java\n",
      "Log:\n",
      "SAK-12501 merge to 2-5-x: r39622, r39624:5, r39632:3 (resolve conflict from differing linebreaks for r39622)\n",
      "\n",
      "----------------------\n",
      "This\n",
      "\n",
      "There are  6687002  Characters\n"
     ]
    }
   ],
   "source": [
    "import urllib.request, urllib.parse, urllib.error\n",
    "#request to open url\n",
    "try:\n",
    "    url = input('Enter full path - ')\n",
    "    fhand = urllib.request.urlopen(url)\n",
    "#handle exeption\n",
    "except:\n",
    "    print('url not found')\n",
    "    raise SystemExit\n",
    "    \n",
    "chars = 0\n",
    "#read file line-by-line\n",
    "for line in fhand:\n",
    "    line = line.decode()\n",
    "    i = 0\n",
    "    for i in line:\n",
    "        chars += 1\n",
    "        #only print 3000 chars\n",
    "        if chars <= 3000:\n",
    "            print (i, end = '')\n",
    "#output number of total chars\n",
    "print('\\n\\nThere are ', chars, ' Characters')"
   ]
  },
  {
   "cell_type": "markdown",
   "metadata": {},
   "source": [
    "<br><p><strong>Exercise 4:</strong> Change the urllinks.py program to extract and count paragraph (p)\n",
    "tags from the retrieved HTML document and display the count of the paragraphs\n",
    "as the output of your program. Do not display the paragraph text, only count\n",
    "them. Test your program on several small web pages as well as some larger web\n",
    "pages.</p>"
   ]
  },
  {
   "cell_type": "code",
   "execution_count": 50,
   "metadata": {},
   "outputs": [
    {
     "name": "stdout",
     "output_type": "stream",
     "text": [
      "Enter - https://www.frontrange.edu\n",
      "19\n"
     ]
    }
   ],
   "source": [
    "import urllib.request, urllib.parse, urllib.error\n",
    "from bs4 import BeautifulSoup\n",
    "import ssl\n",
    "# Ignore SSL certificate errors\n",
    "ctx = ssl.create_default_context()\n",
    "ctx.check_hostname = False\n",
    "ctx.verify_mode = ssl.CERT_NONE\n",
    "url = input('Enter - ')\n",
    "html = urllib.request.urlopen(url, context=ctx).read()\n",
    "soup = BeautifulSoup(html, 'html.parser')\n",
    "# Retrieve all of the paragraph tags\n",
    "tags = soup('p')\n",
    "count = 0\n",
    "for tag in tags:\n",
    "    count += 1\n",
    "print(count)"
   ]
  },
  {
   "cell_type": "markdown",
   "metadata": {},
   "source": [
    "<br><p><strong>Exercise 5:</strong> (Advanced) Change the socket program so that it only shows data\n",
    "after the headers and a blank line have been received. Remember that recv is\n",
    "receiving characters (newlines and all), not lines.</p>"
   ]
  },
  {
   "cell_type": "code",
   "execution_count": 1,
   "metadata": {},
   "outputs": [
    {
     "name": "stdout",
     "output_type": "stream",
     "text": [
      "Enter url -https://www.frontrange.edu\n",
      "Enter path - g\n"
     ]
    },
    {
     "ename": "KeyboardInterrupt",
     "evalue": "",
     "output_type": "error",
     "traceback": [
      "\u001b[0;31m---------------------------------------------------------------------------\u001b[0m",
      "\u001b[0;31mKeyboardInterrupt\u001b[0m                         Traceback (most recent call last)",
      "\u001b[0;32m<ipython-input-1-f372fad6ee90>\u001b[0m in \u001b[0;36m<module>\u001b[0;34m()\u001b[0m\n\u001b[1;32m     19\u001b[0m \u001b[0mcount\u001b[0m \u001b[0;34m=\u001b[0m \u001b[0;36m0\u001b[0m\u001b[0;34m\u001b[0m\u001b[0;34m\u001b[0m\u001b[0m\n\u001b[1;32m     20\u001b[0m \u001b[0;32mwhile\u001b[0m \u001b[0;32mTrue\u001b[0m\u001b[0;34m:\u001b[0m\u001b[0;34m\u001b[0m\u001b[0;34m\u001b[0m\u001b[0m\n\u001b[0;32m---> 21\u001b[0;31m     \u001b[0mdata\u001b[0m \u001b[0;34m=\u001b[0m \u001b[0mmysock\u001b[0m\u001b[0;34m.\u001b[0m\u001b[0mrecv\u001b[0m\u001b[0;34m(\u001b[0m\u001b[0;36m512\u001b[0m\u001b[0;34m)\u001b[0m\u001b[0;34m\u001b[0m\u001b[0;34m\u001b[0m\u001b[0m\n\u001b[0m\u001b[1;32m     22\u001b[0m     \u001b[0;32mif\u001b[0m \u001b[0;34m(\u001b[0m\u001b[0mlen\u001b[0m\u001b[0;34m(\u001b[0m\u001b[0mdata\u001b[0m\u001b[0;34m)\u001b[0m \u001b[0;34m<\u001b[0m \u001b[0;36m1\u001b[0m\u001b[0;34m)\u001b[0m\u001b[0;34m:\u001b[0m\u001b[0;34m\u001b[0m\u001b[0;34m\u001b[0m\u001b[0m\n\u001b[1;32m     23\u001b[0m         \u001b[0;32mbreak\u001b[0m\u001b[0;34m\u001b[0m\u001b[0;34m\u001b[0m\u001b[0m\n",
      "\u001b[0;31mKeyboardInterrupt\u001b[0m: "
     ]
    }
   ],
   "source": [
    "import socket\n",
    "import string\n",
    "mysock = socket.socket(socket.AF_INET, socket.SOCK_STREAM)\n",
    "#user enters http address and attempts socket connection\n",
    "try:\n",
    "    fhand = input('Enter url -')\n",
    "    fhand2 = fhand.split('/')[2] #parse address\n",
    "    mysock.connect((fhand2, 80))\n",
    "#handle error exception\n",
    "except:\n",
    "    print('url does not exist')\n",
    "    raise SystemExit\n",
    "#user enters path to data\n",
    "stuff = input('Enter path - ')\n",
    "cmd1 = 'GET ' + stuff + ' HTTP/1.0\\r\\n\\r\\n' #add necessities\n",
    "cmd = cmd1.encode() \n",
    "mysock.send(cmd)\n",
    "#pull info until null\n",
    "count = 0 \n",
    "while True:   \n",
    "    data = mysock.recv(512)\n",
    "    if (len(data) < 1):\n",
    "        break\n",
    "    chunk = data.decode()\n",
    "    #get past headers\n",
    "    if (count == 0):\n",
    "        tick = 0\n",
    "        for i in chunk:\n",
    "            #get past header block\n",
    "            if (i == '\\n'):\n",
    "                tick += 1\n",
    "            if (tick >= 13):\n",
    "                if (tick == 13):\n",
    "                    count -= 1 #dont count first \\n\n",
    "                    tick += 1\n",
    "                count += 1\n",
    "                #print remaining chars from first 512 chars\n",
    "                print(i, end = '')\n",
    "    else:\n",
    "        for i in chunk:\n",
    "            count += 1\n",
    "            #print only 3000 chars (minus header script)\n",
    "            if (count <= 3000):\n",
    "                print(i, end = '')   \n",
    "mysock.close()\n",
    "#ouotput number of total chars, including header script\n",
    "print('\\n\\nThere are ', count, ' characters' )"
   ]
  }
 ],
 "metadata": {
  "kernelspec": {
   "display_name": "Python 3",
   "language": "python",
   "name": "python3"
  },
  "language_info": {
   "codemirror_mode": {
    "name": "ipython",
    "version": 3
   },
   "file_extension": ".py",
   "mimetype": "text/x-python",
   "name": "python",
   "nbconvert_exporter": "python",
   "pygments_lexer": "ipython3",
   "version": "3.6.8"
  }
 },
 "nbformat": 4,
 "nbformat_minor": 2
}
