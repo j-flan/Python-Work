{
 "cells": [
  {
   "cell_type": "markdown",
   "metadata": {},
   "source": [
    "<h2>Jeff Flanegan</h2><p>CSC 217<br>2019-9-5<br>Questions from: \"Python for Everybody\" by Charles Severance</p>"
   ]
  },
  {
   "cell_type": "markdown",
   "metadata": {},
   "source": [
    "<h2>10.1</h2> <p>This program reads and parses the “From”\n",
    "lines and pulls out the addresses from the line. Then, counts the number of messages from\n",
    "each person using a dictionary.\n",
    "After all the data has been read, it prints the person with the most commits by\n",
    "creating a list of (count, email) tuples from the dictionary, then sorts the list in\n",
    "reverse order and prints out the person who has the most commits.\n",
    "Enter file name: mbox-short.txt</p>"
   ]
  },
  {
   "cell_type": "code",
   "execution_count": 44,
   "metadata": {},
   "outputs": [
    {
     "name": "stdout",
     "output_type": "stream",
     "text": [
      "Enter the file name: mbox-short.txt\n",
      "[(5, 'cwen@iupui.edu'), (4, 'zqian@umich.edu'), (4, 'david.horwitz@uct.ac.za'), (3, 'louis@media.berkeley.edu'), (3, 'gsilver@umich.edu'), (2, 'stephen.marquard@uct.ac.za'), (2, 'rjlowe@iupui.edu'), (1, 'wagnermr@iupui.edu'), (1, 'ray@media.berkeley.edu'), (1, 'gopal.ramasammycook@gmail.com'), (1, 'antranig@caret.cam.ac.uk')]\n"
     ]
    }
   ],
   "source": [
    "#prompt user for file name\n",
    "fname = input('Enter the file name: ')\n",
    "#attempt to open file\n",
    "try:\n",
    "    fhand = open(fname)\n",
    "#when file unable to open\n",
    "except:\n",
    "    print ('File cannot be opened:', fname)\n",
    "    exit()\n",
    "\n",
    "count = dict()  #make dictionary\n",
    "for line in fhand:  #loop through document\n",
    "    if line.startswith('From '):  #search for line that starts with  From\n",
    "        words = line.split()  #split line into word list \n",
    "        count[words[1]] = count.get(words[1],0) +1 #add 1 to index count\n",
    "        \n",
    "#make list of dictionary items, swap key and value in new list\n",
    "#sort in decending order and print tuple\n",
    "t = list(count.items())\n",
    "t2 = list()\n",
    "for key, val in t:\n",
    "    t2.append((val,key))\n",
    "t2.sort(reverse = True)   \n",
    "print(t2)"
   ]
  },
  {
   "cell_type": "markdown",
   "metadata": {},
   "source": [
    "<h2>10.2</h2> <p>This program counts the distribution of the hour of the day for each\n",
    "of the messages. It pulls the hour from the “From” line, and after accumulating the counts for each hour, it prints the counts, one per line. Enter filename: mbox-short.txt</p>"
   ]
  },
  {
   "cell_type": "code",
   "execution_count": 45,
   "metadata": {},
   "outputs": [
    {
     "name": "stdout",
     "output_type": "stream",
     "text": [
      "Enter the file name: mbox-short.txt\n",
      "04 3\n",
      "06 1\n",
      "07 1\n",
      "09 2\n",
      "10 3\n",
      "11 6\n",
      "14 1\n",
      "15 2\n",
      "16 4\n",
      "17 2\n",
      "18 1\n",
      "19 1\n"
     ]
    }
   ],
   "source": [
    "#prompt user for file name\n",
    "fname = input('Enter the file name: ')\n",
    "#attempt to open file\n",
    "try:\n",
    "    fhand = open(fname)\n",
    "#when file unable to open\n",
    "except:\n",
    "    print ('File cannot be opened:', fname)\n",
    "    exit()\n",
    "\n",
    "count = dict()  #make dictionary\n",
    "for line in fhand:  #loop through document\n",
    "    if line.startswith('From '):  #search for line that starts with From\n",
    "        words = line.split()  #split line into word list\n",
    "        time = words[5]  #store time \n",
    "        hour = time.split(':')[0]  #split time with ':' delimiter and store hour\n",
    "        count[hour] = count.get(hour, 0) + 1 #count hours\n",
    "t = list(count.items()) #make tuple of dictionary keys and values\n",
    "t.sort() #sort ascending by hour\n",
    "for key, val in t: #print one per line\n",
    "    print(key,val)\n",
    "    "
   ]
  },
  {
   "cell_type": "markdown",
   "metadata": {},
   "source": [
    "<h2>10.3</h2> <p>This program reads a file and prints the letters in decreasing\n",
    "order of frequency, and only counts the letters a-z. If using this porogram for other languages, it will not filter out non-english special characters, accents, or letters not in english alphabet.\n",
    "Enter file names: mbox-short.txt</p>"
   ]
  },
  {
   "cell_type": "code",
   "execution_count": 1,
   "metadata": {
    "scrolled": false
   },
   "outputs": [
    {
     "name": "stdout",
     "output_type": "stream",
     "text": [
      "Enter the file name: mbox-short.txt\n",
      "Counter({'e': 5436, 'a': 5223, 'i': 4494, 'o': 4174, 'r': 4064, 't': 4050, 's': 3738, 'u': 3123, 'c': 3088, 'n': 2575, 'p': 2497, 'm': 2436, 'd': 2004, 'l': 1832, 'h': 1392, 'f': 1257, 'k': 1167, 'b': 1134, 'g': 1027, 'v': 997, 'j': 959, 'y': 643, 'w': 586, 'x': 482, 'z': 78, 'q': 57})\n"
     ]
    }
   ],
   "source": [
    "from collections import Counter\n",
    "import string\n",
    "#prompt user for file name\n",
    "fname = input('Enter the file name: ')\n",
    "#attempt to open file\n",
    "try:\n",
    "    fhand = open(fname)\n",
    "#when file unable to open\n",
    "except:\n",
    "    print ('File cannot be opened:', fname)\n",
    "    exit()\n",
    "\n",
    "count = Counter() #declare counter to count keys\n",
    "for line in fhand:\n",
    "    line = line.strip() #remove outer whitespace\n",
    "    \n",
    "    #remove spaces, all punctuation, and tabs\n",
    "    line = line.translate(line.maketrans('', '', \" \"))\n",
    "    line = line.translate(line.maketrans('', '', string.punctuation))\n",
    "    line = line.translate(line.maketrans('', '', '\\t'))\n",
    "    \n",
    "    line = line.lower() #convert to lower case\n",
    "    t = tuple(line) #split characters into tuple\n",
    "    for i in t:\n",
    "         if not i.isdigit(): #count only non-digits left over\n",
    "            count[i] += 1\n",
    "print(count)    "
   ]
  }
 ],
 "metadata": {
  "kernelspec": {
   "display_name": "Python 3",
   "language": "python",
   "name": "python3"
  },
  "language_info": {
   "codemirror_mode": {
    "name": "ipython",
    "version": 3
   },
   "file_extension": ".py",
   "mimetype": "text/x-python",
   "name": "python",
   "nbconvert_exporter": "python",
   "pygments_lexer": "ipython3",
   "version": "3.6.8"
  }
 },
 "nbformat": 4,
 "nbformat_minor": 2
}
