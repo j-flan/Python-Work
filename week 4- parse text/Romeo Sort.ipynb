{
 "cells": [
  {
   "cell_type": "markdown",
   "metadata": {},
   "source": [
    "<h1>Jeff Flanegan</h1><p>Romeo Sort<br>CSC 217<br>2019-9-8</p>"
   ]
  },
  {
   "cell_type": "markdown",
   "metadata": {},
   "source": [
    "<p>This program sorts romeo1.txt by word length in primary ascending and secondary alphabetical order. Remember that Uppercase letters are less than lower case.<p>"
   ]
  },
  {
   "cell_type": "code",
   "execution_count": 7,
   "metadata": {},
   "outputs": [
    {
     "name": "stdout",
     "output_type": "stream",
     "text": [
      "['It', 'is', 'is', 'is', 'But', 'Who', 'and', 'and', 'and', 'sun', 'sun', 'the', 'the', 'the', 'east', 'fair', 'kill', 'moon', 'pale', 'sick', 'soft', 'what', 'with', 'Arise', 'grief', 'light', 'Juliet', 'breaks', 'window', 'yonder', 'already', 'envious', 'through']\n"
     ]
    }
   ],
   "source": [
    "#open file\n",
    "try:\n",
    "    fname = open ('romeo1.txt')\n",
    "except:\n",
    "    print('File not found')\n",
    "    exit()\n",
    "#get words line-by-line\n",
    "t = list()\n",
    "for line in fname:\n",
    "    words = line.split()\n",
    "    #make list of words with keys and sort by key, then word\n",
    "    for word in words:\n",
    "        t.append((len(word), word))\n",
    "        t.sort()\n",
    "#make list of only words   \n",
    "fin = list()\n",
    "for length, word in t:\n",
    "    fin.append(word)\n",
    "        \n",
    "print(fin)"
   ]
  }
 ],
 "metadata": {
  "kernelspec": {
   "display_name": "Python 3",
   "language": "python",
   "name": "python3"
  },
  "language_info": {
   "codemirror_mode": {
    "name": "ipython",
    "version": 3
   },
   "file_extension": ".py",
   "mimetype": "text/x-python",
   "name": "python",
   "nbconvert_exporter": "python",
   "pygments_lexer": "ipython3",
   "version": "3.6.8"
  }
 },
 "nbformat": 4,
 "nbformat_minor": 2
}
