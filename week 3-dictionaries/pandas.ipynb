{
 "cells": [
  {
   "cell_type": "markdown",
   "metadata": {},
   "source": [
    "<h2>Jeff Flanegan</h2><p>CSC 217<br>2019-9-3<br>Pandas<br></p>"
   ]
  },
  {
   "cell_type": "markdown",
   "metadata": {},
   "source": [
    "<h1>Pandas</h1><p>The proceeding code is used to set up the assignment below. It has been written up to eplain the processes used.</p>"
   ]
  },
  {
   "cell_type": "code",
   "execution_count": 42,
   "metadata": {},
   "outputs": [],
   "source": [
    "import pandas as pd\n",
    "import numpy as np\n",
    "%matplotlib inline\n",
    "import matplotlib.pyplot as plt"
   ]
  },
  {
   "cell_type": "markdown",
   "metadata": {},
   "source": [
    "Let us create a DataFrame by passing a numpy array, with a dateline index and labeled columns"
   ]
  },
  {
   "cell_type": "code",
   "execution_count": 43,
   "metadata": {},
   "outputs": [
    {
     "data": {
      "text/plain": [
       "DatetimeIndex(['2018-01-01', '2018-01-02', '2018-01-03', '2018-01-04',\n",
       "               '2018-01-05', '2018-01-06'],\n",
       "              dtype='datetime64[ns]', freq='D')"
      ]
     },
     "execution_count": 43,
     "metadata": {},
     "output_type": "execute_result"
    }
   ],
   "source": [
    "#input date, with 6 incrementing days\n",
    "#pd.date_range makes a list alled \"DatetimeIndex\", outputs its data-type\n",
    "dates = pd.date_range('20180101', periods=6)\n",
    "dates"
   ]
  },
  {
   "cell_type": "code",
   "execution_count": 44,
   "metadata": {},
   "outputs": [
    {
     "data": {
      "text/html": [
       "<div>\n",
       "<style scoped>\n",
       "    .dataframe tbody tr th:only-of-type {\n",
       "        vertical-align: middle;\n",
       "    }\n",
       "\n",
       "    .dataframe tbody tr th {\n",
       "        vertical-align: top;\n",
       "    }\n",
       "\n",
       "    .dataframe thead th {\n",
       "        text-align: right;\n",
       "    }\n",
       "</style>\n",
       "<table border=\"1\" class=\"dataframe\">\n",
       "  <thead>\n",
       "    <tr style=\"text-align: right;\">\n",
       "      <th></th>\n",
       "      <th>A</th>\n",
       "      <th>B</th>\n",
       "      <th>C</th>\n",
       "      <th>D</th>\n",
       "    </tr>\n",
       "  </thead>\n",
       "  <tbody>\n",
       "    <tr>\n",
       "      <td>2018-01-01</td>\n",
       "      <td>-0.007926</td>\n",
       "      <td>0.666250</td>\n",
       "      <td>0.888708</td>\n",
       "      <td>1.226439</td>\n",
       "    </tr>\n",
       "    <tr>\n",
       "      <td>2018-01-02</td>\n",
       "      <td>-0.440884</td>\n",
       "      <td>2.183055</td>\n",
       "      <td>-0.682425</td>\n",
       "      <td>-0.547572</td>\n",
       "    </tr>\n",
       "    <tr>\n",
       "      <td>2018-01-03</td>\n",
       "      <td>0.497153</td>\n",
       "      <td>-0.053030</td>\n",
       "      <td>-0.435616</td>\n",
       "      <td>1.250064</td>\n",
       "    </tr>\n",
       "    <tr>\n",
       "      <td>2018-01-04</td>\n",
       "      <td>-0.033810</td>\n",
       "      <td>-1.043382</td>\n",
       "      <td>1.408750</td>\n",
       "      <td>1.354945</td>\n",
       "    </tr>\n",
       "    <tr>\n",
       "      <td>2018-01-05</td>\n",
       "      <td>-1.262092</td>\n",
       "      <td>-0.580369</td>\n",
       "      <td>0.591596</td>\n",
       "      <td>-0.467390</td>\n",
       "    </tr>\n",
       "    <tr>\n",
       "      <td>2018-01-06</td>\n",
       "      <td>-0.165796</td>\n",
       "      <td>-0.665335</td>\n",
       "      <td>-0.261873</td>\n",
       "      <td>-2.143140</td>\n",
       "    </tr>\n",
       "  </tbody>\n",
       "</table>\n",
       "</div>"
      ],
      "text/plain": [
       "                   A         B         C         D\n",
       "2018-01-01 -0.007926  0.666250  0.888708  1.226439\n",
       "2018-01-02 -0.440884  2.183055 -0.682425 -0.547572\n",
       "2018-01-03  0.497153 -0.053030 -0.435616  1.250064\n",
       "2018-01-04 -0.033810 -1.043382  1.408750  1.354945\n",
       "2018-01-05 -1.262092 -0.580369  0.591596 -0.467390\n",
       "2018-01-06 -0.165796 -0.665335 -0.261873 -2.143140"
      ]
     },
     "execution_count": 44,
     "metadata": {},
     "output_type": "execute_result"
    }
   ],
   "source": [
    "#pd makes a dataframe with 6 rows and 4 columns filled with random numbers\n",
    "#and uses the list above as its row index with the column headers ABCD\n",
    "df = pd.DataFrame(np.random.randn(6,4), index=dates, columns= list('ABCD'))\n",
    "df"
   ]
  },
  {
   "cell_type": "markdown",
   "metadata": {},
   "source": [
    "Let us create the same DataFrame by passing a dictionary, with a dateline index and labeled columns"
   ]
  },
  {
   "cell_type": "code",
   "execution_count": 45,
   "metadata": {},
   "outputs": [
    {
     "data": {
      "text/html": [
       "<div>\n",
       "<style scoped>\n",
       "    .dataframe tbody tr th:only-of-type {\n",
       "        vertical-align: middle;\n",
       "    }\n",
       "\n",
       "    .dataframe tbody tr th {\n",
       "        vertical-align: top;\n",
       "    }\n",
       "\n",
       "    .dataframe thead th {\n",
       "        text-align: right;\n",
       "    }\n",
       "</style>\n",
       "<table border=\"1\" class=\"dataframe\">\n",
       "  <thead>\n",
       "    <tr style=\"text-align: right;\">\n",
       "      <th></th>\n",
       "      <th>A</th>\n",
       "      <th>B</th>\n",
       "      <th>C</th>\n",
       "      <th>D</th>\n",
       "    </tr>\n",
       "  </thead>\n",
       "  <tbody>\n",
       "    <tr>\n",
       "      <td>2018-01-01</td>\n",
       "      <td>0.705813</td>\n",
       "      <td>0.402580</td>\n",
       "      <td>-0.402198</td>\n",
       "      <td>-2.073981</td>\n",
       "    </tr>\n",
       "    <tr>\n",
       "      <td>2018-01-02</td>\n",
       "      <td>-1.938871</td>\n",
       "      <td>-0.314783</td>\n",
       "      <td>-0.721933</td>\n",
       "      <td>-0.119729</td>\n",
       "    </tr>\n",
       "    <tr>\n",
       "      <td>2018-01-03</td>\n",
       "      <td>-0.258341</td>\n",
       "      <td>0.972989</td>\n",
       "      <td>-0.782223</td>\n",
       "      <td>-1.063251</td>\n",
       "    </tr>\n",
       "    <tr>\n",
       "      <td>2018-01-04</td>\n",
       "      <td>0.150040</td>\n",
       "      <td>1.056351</td>\n",
       "      <td>-2.154733</td>\n",
       "      <td>-0.326378</td>\n",
       "    </tr>\n",
       "    <tr>\n",
       "      <td>2018-01-05</td>\n",
       "      <td>-0.053008</td>\n",
       "      <td>-0.919764</td>\n",
       "      <td>1.552588</td>\n",
       "      <td>0.120233</td>\n",
       "    </tr>\n",
       "    <tr>\n",
       "      <td>2018-01-06</td>\n",
       "      <td>1.712302</td>\n",
       "      <td>1.992511</td>\n",
       "      <td>0.493833</td>\n",
       "      <td>0.420999</td>\n",
       "    </tr>\n",
       "  </tbody>\n",
       "</table>\n",
       "</div>"
      ],
      "text/plain": [
       "                   A         B         C         D\n",
       "2018-01-01  0.705813  0.402580 -0.402198 -2.073981\n",
       "2018-01-02 -1.938871 -0.314783 -0.721933 -0.119729\n",
       "2018-01-03 -0.258341  0.972989 -0.782223 -1.063251\n",
       "2018-01-04  0.150040  1.056351 -2.154733 -0.326378\n",
       "2018-01-05 -0.053008 -0.919764  1.552588  0.120233\n",
       "2018-01-06  1.712302  1.992511  0.493833  0.420999"
      ]
     },
     "execution_count": 45,
     "metadata": {},
     "output_type": "execute_result"
    }
   ],
   "source": [
    "#Showing that dictionaries can also be used to generate a dataframe in a different way.\n",
    "d = {'A' : pd.Series(np.random.randn(6), index=dates),\n",
    "     'B' : pd.Series(np.random.randn(6), index=dates),\n",
    "     'C' : pd.Series(np.random.randn(6), index=dates),\n",
    "     'D' : pd.Series(np.random.randn(6), index=dates)}\n",
    "  \n",
    "dfd = pd.DataFrame(d)\n",
    "\n",
    "dfd"
   ]
  },
  {
   "cell_type": "code",
   "execution_count": 46,
   "metadata": {},
   "outputs": [
    {
     "data": {
      "text/plain": [
       "A    float64\n",
       "B    float64\n",
       "C    float64\n",
       "D    float64\n",
       "dtype: object"
      ]
     },
     "execution_count": 46,
     "metadata": {},
     "output_type": "execute_result"
    }
   ],
   "source": [
    "#shows the datatypes\n",
    "df.dtypes"
   ]
  },
  {
   "cell_type": "code",
   "execution_count": 47,
   "metadata": {},
   "outputs": [
    {
     "data": {
      "text/plain": [
       "DatetimeIndex(['2018-01-01', '2018-01-02', '2018-01-03', '2018-01-04',\n",
       "               '2018-01-05', '2018-01-06'],\n",
       "              dtype='datetime64[ns]', freq='D')"
      ]
     },
     "execution_count": 47,
     "metadata": {},
     "output_type": "execute_result"
    }
   ],
   "source": [
    "#list of indexes\n",
    "df.index"
   ]
  },
  {
   "cell_type": "code",
   "execution_count": 48,
   "metadata": {},
   "outputs": [
    {
     "data": {
      "text/plain": [
       "Index(['A', 'B', 'C', 'D'], dtype='object')"
      ]
     },
     "execution_count": 48,
     "metadata": {},
     "output_type": "execute_result"
    }
   ],
   "source": [
    "#shows columns made\n",
    "df.columns"
   ]
  },
  {
   "cell_type": "code",
   "execution_count": 49,
   "metadata": {},
   "outputs": [
    {
     "data": {
      "text/plain": [
       "array([[-0.00792637,  0.6662503 ,  0.88870827,  1.22643901],\n",
       "       [-0.44088366,  2.18305479, -0.68242529, -0.54757191],\n",
       "       [ 0.49715336, -0.0530299 , -0.43561597,  1.25006406],\n",
       "       [-0.03381017, -1.04338166,  1.40874983,  1.35494459],\n",
       "       [-1.26209153, -0.58036913,  0.59159604, -0.46739019],\n",
       "       [-0.16579607, -0.66533532, -0.26187265, -2.14314013]])"
      ]
     },
     "execution_count": 49,
     "metadata": {},
     "output_type": "execute_result"
    }
   ],
   "source": [
    "#shows randomized array values from dataframe\n",
    "df.values"
   ]
  },
  {
   "cell_type": "code",
   "execution_count": 50,
   "metadata": {},
   "outputs": [
    {
     "data": {
      "text/html": [
       "<div>\n",
       "<style scoped>\n",
       "    .dataframe tbody tr th:only-of-type {\n",
       "        vertical-align: middle;\n",
       "    }\n",
       "\n",
       "    .dataframe tbody tr th {\n",
       "        vertical-align: top;\n",
       "    }\n",
       "\n",
       "    .dataframe thead th {\n",
       "        text-align: right;\n",
       "    }\n",
       "</style>\n",
       "<table border=\"1\" class=\"dataframe\">\n",
       "  <thead>\n",
       "    <tr style=\"text-align: right;\">\n",
       "      <th></th>\n",
       "      <th>A</th>\n",
       "      <th>B</th>\n",
       "      <th>C</th>\n",
       "      <th>D</th>\n",
       "    </tr>\n",
       "  </thead>\n",
       "  <tbody>\n",
       "    <tr>\n",
       "      <td>count</td>\n",
       "      <td>6.000000</td>\n",
       "      <td>6.000000</td>\n",
       "      <td>6.000000</td>\n",
       "      <td>6.000000</td>\n",
       "    </tr>\n",
       "    <tr>\n",
       "      <td>mean</td>\n",
       "      <td>-0.235559</td>\n",
       "      <td>0.084532</td>\n",
       "      <td>0.251523</td>\n",
       "      <td>0.112224</td>\n",
       "    </tr>\n",
       "    <tr>\n",
       "      <td>std</td>\n",
       "      <td>0.588248</td>\n",
       "      <td>1.186398</td>\n",
       "      <td>0.832925</td>\n",
       "      <td>1.409855</td>\n",
       "    </tr>\n",
       "    <tr>\n",
       "      <td>min</td>\n",
       "      <td>-1.262092</td>\n",
       "      <td>-1.043382</td>\n",
       "      <td>-0.682425</td>\n",
       "      <td>-2.143140</td>\n",
       "    </tr>\n",
       "    <tr>\n",
       "      <td>25%</td>\n",
       "      <td>-0.372112</td>\n",
       "      <td>-0.644094</td>\n",
       "      <td>-0.392180</td>\n",
       "      <td>-0.527526</td>\n",
       "    </tr>\n",
       "    <tr>\n",
       "      <td>50%</td>\n",
       "      <td>-0.099803</td>\n",
       "      <td>-0.316700</td>\n",
       "      <td>0.164862</td>\n",
       "      <td>0.379524</td>\n",
       "    </tr>\n",
       "    <tr>\n",
       "      <td>75%</td>\n",
       "      <td>-0.014397</td>\n",
       "      <td>0.486430</td>\n",
       "      <td>0.814430</td>\n",
       "      <td>1.244158</td>\n",
       "    </tr>\n",
       "    <tr>\n",
       "      <td>max</td>\n",
       "      <td>0.497153</td>\n",
       "      <td>2.183055</td>\n",
       "      <td>1.408750</td>\n",
       "      <td>1.354945</td>\n",
       "    </tr>\n",
       "  </tbody>\n",
       "</table>\n",
       "</div>"
      ],
      "text/plain": [
       "              A         B         C         D\n",
       "count  6.000000  6.000000  6.000000  6.000000\n",
       "mean  -0.235559  0.084532  0.251523  0.112224\n",
       "std    0.588248  1.186398  0.832925  1.409855\n",
       "min   -1.262092 -1.043382 -0.682425 -2.143140\n",
       "25%   -0.372112 -0.644094 -0.392180 -0.527526\n",
       "50%   -0.099803 -0.316700  0.164862  0.379524\n",
       "75%   -0.014397  0.486430  0.814430  1.244158\n",
       "max    0.497153  2.183055  1.408750  1.354945"
      ]
     },
     "execution_count": 50,
     "metadata": {},
     "output_type": "execute_result"
    }
   ],
   "source": [
    "#gives statistical information for each column\n",
    "df.describe()"
   ]
  },
  {
   "cell_type": "code",
   "execution_count": 51,
   "metadata": {},
   "outputs": [
    {
     "data": {
      "text/html": [
       "<div>\n",
       "<style scoped>\n",
       "    .dataframe tbody tr th:only-of-type {\n",
       "        vertical-align: middle;\n",
       "    }\n",
       "\n",
       "    .dataframe tbody tr th {\n",
       "        vertical-align: top;\n",
       "    }\n",
       "\n",
       "    .dataframe thead th {\n",
       "        text-align: right;\n",
       "    }\n",
       "</style>\n",
       "<table border=\"1\" class=\"dataframe\">\n",
       "  <thead>\n",
       "    <tr style=\"text-align: right;\">\n",
       "      <th></th>\n",
       "      <th>2018-01-01</th>\n",
       "      <th>2018-01-02</th>\n",
       "      <th>2018-01-03</th>\n",
       "      <th>2018-01-04</th>\n",
       "      <th>2018-01-05</th>\n",
       "      <th>2018-01-06</th>\n",
       "    </tr>\n",
       "  </thead>\n",
       "  <tbody>\n",
       "    <tr>\n",
       "      <td>A</td>\n",
       "      <td>-0.007926</td>\n",
       "      <td>-0.440884</td>\n",
       "      <td>0.497153</td>\n",
       "      <td>-0.033810</td>\n",
       "      <td>-1.262092</td>\n",
       "      <td>-0.165796</td>\n",
       "    </tr>\n",
       "    <tr>\n",
       "      <td>B</td>\n",
       "      <td>0.666250</td>\n",
       "      <td>2.183055</td>\n",
       "      <td>-0.053030</td>\n",
       "      <td>-1.043382</td>\n",
       "      <td>-0.580369</td>\n",
       "      <td>-0.665335</td>\n",
       "    </tr>\n",
       "    <tr>\n",
       "      <td>C</td>\n",
       "      <td>0.888708</td>\n",
       "      <td>-0.682425</td>\n",
       "      <td>-0.435616</td>\n",
       "      <td>1.408750</td>\n",
       "      <td>0.591596</td>\n",
       "      <td>-0.261873</td>\n",
       "    </tr>\n",
       "    <tr>\n",
       "      <td>D</td>\n",
       "      <td>1.226439</td>\n",
       "      <td>-0.547572</td>\n",
       "      <td>1.250064</td>\n",
       "      <td>1.354945</td>\n",
       "      <td>-0.467390</td>\n",
       "      <td>-2.143140</td>\n",
       "    </tr>\n",
       "  </tbody>\n",
       "</table>\n",
       "</div>"
      ],
      "text/plain": [
       "   2018-01-01  2018-01-02  2018-01-03  2018-01-04  2018-01-05  2018-01-06\n",
       "A   -0.007926   -0.440884    0.497153   -0.033810   -1.262092   -0.165796\n",
       "B    0.666250    2.183055   -0.053030   -1.043382   -0.580369   -0.665335\n",
       "C    0.888708   -0.682425   -0.435616    1.408750    0.591596   -0.261873\n",
       "D    1.226439   -0.547572    1.250064    1.354945   -0.467390   -2.143140"
      ]
     },
     "execution_count": 51,
     "metadata": {},
     "output_type": "execute_result"
    }
   ],
   "source": [
    "#swaps the rows and columns\n",
    "df.T"
   ]
  },
  {
   "cell_type": "code",
   "execution_count": 52,
   "metadata": {},
   "outputs": [
    {
     "data": {
      "text/html": [
       "<div>\n",
       "<style scoped>\n",
       "    .dataframe tbody tr th:only-of-type {\n",
       "        vertical-align: middle;\n",
       "    }\n",
       "\n",
       "    .dataframe tbody tr th {\n",
       "        vertical-align: top;\n",
       "    }\n",
       "\n",
       "    .dataframe thead th {\n",
       "        text-align: right;\n",
       "    }\n",
       "</style>\n",
       "<table border=\"1\" class=\"dataframe\">\n",
       "  <thead>\n",
       "    <tr style=\"text-align: right;\">\n",
       "      <th></th>\n",
       "      <th>A</th>\n",
       "      <th>B</th>\n",
       "      <th>C</th>\n",
       "      <th>D</th>\n",
       "    </tr>\n",
       "  </thead>\n",
       "  <tbody>\n",
       "    <tr>\n",
       "      <td>2018-01-04</td>\n",
       "      <td>-0.033810</td>\n",
       "      <td>-1.043382</td>\n",
       "      <td>1.408750</td>\n",
       "      <td>1.354945</td>\n",
       "    </tr>\n",
       "    <tr>\n",
       "      <td>2018-01-06</td>\n",
       "      <td>-0.165796</td>\n",
       "      <td>-0.665335</td>\n",
       "      <td>-0.261873</td>\n",
       "      <td>-2.143140</td>\n",
       "    </tr>\n",
       "    <tr>\n",
       "      <td>2018-01-05</td>\n",
       "      <td>-1.262092</td>\n",
       "      <td>-0.580369</td>\n",
       "      <td>0.591596</td>\n",
       "      <td>-0.467390</td>\n",
       "    </tr>\n",
       "    <tr>\n",
       "      <td>2018-01-03</td>\n",
       "      <td>0.497153</td>\n",
       "      <td>-0.053030</td>\n",
       "      <td>-0.435616</td>\n",
       "      <td>1.250064</td>\n",
       "    </tr>\n",
       "    <tr>\n",
       "      <td>2018-01-01</td>\n",
       "      <td>-0.007926</td>\n",
       "      <td>0.666250</td>\n",
       "      <td>0.888708</td>\n",
       "      <td>1.226439</td>\n",
       "    </tr>\n",
       "    <tr>\n",
       "      <td>2018-01-02</td>\n",
       "      <td>-0.440884</td>\n",
       "      <td>2.183055</td>\n",
       "      <td>-0.682425</td>\n",
       "      <td>-0.547572</td>\n",
       "    </tr>\n",
       "  </tbody>\n",
       "</table>\n",
       "</div>"
      ],
      "text/plain": [
       "                   A         B         C         D\n",
       "2018-01-04 -0.033810 -1.043382  1.408750  1.354945\n",
       "2018-01-06 -0.165796 -0.665335 -0.261873 -2.143140\n",
       "2018-01-05 -1.262092 -0.580369  0.591596 -0.467390\n",
       "2018-01-03  0.497153 -0.053030 -0.435616  1.250064\n",
       "2018-01-01 -0.007926  0.666250  0.888708  1.226439\n",
       "2018-01-02 -0.440884  2.183055 -0.682425 -0.547572"
      ]
     },
     "execution_count": 52,
     "metadata": {},
     "output_type": "execute_result"
    }
   ],
   "source": [
    "#defined coumn is sorted ascending\n",
    "df.sort_values(by='B')"
   ]
  },
  {
   "cell_type": "code",
   "execution_count": 53,
   "metadata": {
    "scrolled": true
   },
   "outputs": [
    {
     "data": {
      "text/plain": [
       "<matplotlib.axes._subplots.AxesSubplot at 0x7f8afd9363c8>"
      ]
     },
     "execution_count": 53,
     "metadata": {},
     "output_type": "execute_result"
    },
    {
     "data": {
      "text/plain": [
       "<Figure size 432x288 with 0 Axes>"
      ]
     },
     "metadata": {},
     "output_type": "display_data"
    },
    {
     "data": {
      "image/png": "[encoded data removed]",
      "text/plain": [
       "<Figure size 432x288 with 1 Axes>"
      ]
     },
     "metadata": {},
     "output_type": "display_data"
    }
   ],
   "source": [
    "plt.figure()\n",
    "df.plot()"
   ]
  },
  {
   "cell_type": "markdown",
   "metadata": {},
   "source": [
    "<br><br><h1>Assignment: Draw Histogram and Density plots</h1>\n",
    "<p>(see: https://pandas.pydata.org/pandas-docs/stable/generated/pandas.DataFrame.plot.html )</p>"
   ]
  },
  {
   "cell_type": "markdown",
   "metadata": {},
   "source": [
    "<p><strong>Using the Pandas dataframe from above, we can make a histogram and a desnity plot easily with the built-in functions of Matplotlib. When the code is run, it creates 4 individual histograms (one for each column of data). Since the dataframe values are randomized, the plots will update to new values if this whole page is run again.</strong></p>"
   ]
  },
  {
   "cell_type": "code",
   "execution_count": 54,
   "metadata": {
    "scrolled": false
   },
   "outputs": [
    {
     "data": {
      "text/plain": [
       "array([[<matplotlib.axes._subplots.AxesSubplot object at 0x7f8afd936c50>,\n",
       "        <matplotlib.axes._subplots.AxesSubplot object at 0x7f8afd858e48>],\n",
       "       [<matplotlib.axes._subplots.AxesSubplot object at 0x7f8afd894438>,\n",
       "        <matplotlib.axes._subplots.AxesSubplot object at 0x7f8afd8469b0>]],\n",
       "      dtype=object)"
      ]
     },
     "execution_count": 54,
     "metadata": {},
     "output_type": "execute_result"
    },
    {
     "data": {
      "image/png": "[encoded data removed]",
      "text/plain": [
       "<Figure size 432x288 with 4 Axes>"
      ]
     },
     "metadata": {},
     "output_type": "display_data"
    }
   ],
   "source": [
    "df.hist()"
   ]
  },
  {
   "cell_type": "markdown",
   "metadata": {},
   "source": [
    "<p><strong>To make this density plot, we need the assistance of the scipy library functions to smooth out the shape of the lines. Density plots are unaffected by the number of bins (bars), as a histogram is, and shows a continuous shape defining data density of each column. </strong></p>"
   ]
  },
  {
   "cell_type": "code",
   "execution_count": 55,
   "metadata": {},
   "outputs": [
    {
     "data": {
      "text/plain": [
       "<matplotlib.axes._subplots.AxesSubplot at 0x7f8afd746208>"
      ]
     },
     "execution_count": 55,
     "metadata": {},
     "output_type": "execute_result"
    },
    {
     "data": {
      "image/png": "[encoded data removed]",
      "text/plain": [
       "<Figure size 432x288 with 1 Axes>"
      ]
     },
     "metadata": {},
     "output_type": "display_data"
    }
   ],
   "source": [
    "import scipy\n",
    "df.plot.density()"
   ]
  }
 ],
 "metadata": {
  "kernelspec": {
   "display_name": "Python 3",
   "language": "python",
   "name": "python3"
  },
  "language_info": {
   "codemirror_mode": {
    "name": "ipython",
    "version": 3
   },
   "file_extension": ".py",
   "mimetype": "text/x-python",
   "name": "python",
   "nbconvert_exporter": "python",
   "pygments_lexer": "ipython3",
   "version": "3.6.8"
  }
 },
 "nbformat": 4,
 "nbformat_minor": 2
}
