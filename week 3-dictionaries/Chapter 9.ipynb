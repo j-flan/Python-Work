{
 "cells": [
  {
   "cell_type": "markdown",
   "metadata": {},
   "source": [
    "<h2>Jeff Flanegan</h2><p>CSC 217<br>2019-8-31<br>Questions from: \"Python for Everybody\" by Charles Severance</p>"
   ]
  },
  {
   "cell_type": "markdown",
   "metadata": {},
   "source": [
    "<h2>9.2</h2> <p>This program categorizes each mail message by the day of\n",
    "the week the commit was done. It looks for lines that start with “From”,\n",
    "then looks for the third word and keeps a running count of each of the days of the\n",
    "week with a dictionary. At the end of the program it prints out the contents of the dictionary. Enter filename: mbox-short.txt</p>"
   ]
  },
  {
   "cell_type": "code",
   "execution_count": 2,
   "metadata": {},
   "outputs": [
    {
     "name": "stdout",
     "output_type": "stream",
     "text": [
      "Enter the file name: mbox-short.txt\n",
      "{'Sat': 1, 'Fri': 20, 'Thu': 6}\n"
     ]
    }
   ],
   "source": [
    "#prompt user for file name\n",
    "fname = input('Enter the file name: ')\n",
    "#attempt to open file\n",
    "try:\n",
    "    fhand = open(fname)\n",
    "#when file unable to open\n",
    "except:\n",
    "    print ('File cannot be opened:', fname)\n",
    "    exit()\n",
    "\n",
    "count = dict()  #make dictionary\n",
    "for line in fhand:  #loop through document\n",
    "    if line.startswith('From '):  #search for line that starts with  From\n",
    "        words = line.split()  #split line into word list\n",
    "        if words[2] not in count:  #add word to dictionary and mark its count\n",
    "            count[words[2]] = 1\n",
    "        else:  #or add 1 to dictionary match count\n",
    "            count[words[2]] = count[words[2]] +1\n",
    "print(count)"
   ]
  },
  {
   "cell_type": "markdown",
   "metadata": {},
   "source": [
    "<h2>9.3</h2> <p>This program reads through a mail log and builds a histogram using\n",
    "a dictionary to count how many messages have come from each email address, then\n",
    "prints the dictionary.\n",
    "Enter file name: mbox-short.txt</p>"
   ]
  },
  {
   "cell_type": "code",
   "execution_count": 3,
   "metadata": {
    "scrolled": false
   },
   "outputs": [
    {
     "name": "stdout",
     "output_type": "stream",
     "text": [
      "Enter the file name: mbox-short.txt\n",
      "{'stephen.marquard@uct.ac.za': 2, 'louis@media.berkeley.edu': 3, 'zqian@umich.edu': 4, 'rjlowe@iupui.edu': 2, 'cwen@iupui.edu': 5, 'gsilver@umich.edu': 3, 'wagnermr@iupui.edu': 1, 'antranig@caret.cam.ac.uk': 1, 'gopal.ramasammycook@gmail.com': 1, 'david.horwitz@uct.ac.za': 4, 'ray@media.berkeley.edu': 1}\n"
     ]
    }
   ],
   "source": [
    "#prompt user for file name\n",
    "fname = input('Enter the file name: ')\n",
    "#attempt to open file\n",
    "try:\n",
    "    fhand = open(fname)\n",
    "#when file unable to open\n",
    "except:\n",
    "    print ('File cannot be opened:', fname)\n",
    "    exit()\n",
    "\n",
    "count = dict()  #make dictionary\n",
    "for line in fhand:  #loop through document\n",
    "    if line.startswith('From '):  #search for line that starts with  From\n",
    "        words = line.split()  #split line into word list\n",
    "        if words[1] not in count:  #add email address to dictionary and mark its count\n",
    "            count[words[1]] = 1\n",
    "        else:  #or add 1 to dictionary match count\n",
    "            count[words[1]] = count[words[1]] +1\n",
    "print(count)"
   ]
  },
  {
   "cell_type": "markdown",
   "metadata": {},
   "source": [
    "<h2>9.4</h2> <p>This program adds code to the above program to figure out who has the most\n",
    "messages in the file. It looks through the dictionary using a loop to find who\n",
    "has the most messages and prints how many messages the person has.\n",
    "Enter file name: mbox-short.txt</p>"
   ]
  },
  {
   "cell_type": "code",
   "execution_count": 4,
   "metadata": {},
   "outputs": [
    {
     "name": "stdout",
     "output_type": "stream",
     "text": [
      "Enter the file name: mbox-short.txt\n",
      "cwen@iupui.edu 5\n"
     ]
    }
   ],
   "source": [
    "#prompt user for file name\n",
    "fname = input('Enter the file name: ')\n",
    "#attempt to open file\n",
    "try:\n",
    "    fhand = open(fname)\n",
    "#when file unable to open\n",
    "except:\n",
    "    print ('File cannot be opened:', fname)\n",
    "    exit()\n",
    "\n",
    "count = dict()  #make dictionary\n",
    "for line in fhand:  #loop through document\n",
    "    if line.startswith('From '):  #search for line that starts with  From\n",
    "        words = line.split()  #split line into word list\n",
    "        if words[1] not in count:  #add email address to dictionary and mark its count\n",
    "            count[words[1]] = 1\n",
    "        else:  #or add 1 to dictionary match count\n",
    "            count[words[1]] = count[words[1]] +1\n",
    "max = 0\n",
    "for em in count:  #loop through dictionary\n",
    "    if count[em] > max:  #find key with highest count\n",
    "        max = count[em]  #save count to max\n",
    "        k = em  #save key to k\n",
    "print(k,max)"
   ]
  },
  {
   "cell_type": "markdown",
   "metadata": {},
   "source": [
    "<h2>9.5</h2> This program records the domain name (instead of the address) where\n",
    "the message was sent from instead of who the mail came from (i.e., the whole email\n",
    "address). At the end of the program, it prints out the contents of the dictionary.\n",
    "python schoolcount.py\n",
    "Enter a file name: mbox-short.txt"
   ]
  },
  {
   "cell_type": "code",
   "execution_count": 6,
   "metadata": {},
   "outputs": [
    {
     "name": "stdout",
     "output_type": "stream",
     "text": [
      "Enter the file name: mbox-short.txt\n",
      "{'uct.ac.za': 6, 'media.berkeley.edu': 4, 'umich.edu': 7, 'iupui.edu': 8, 'caret.cam.ac.uk': 1, 'gmail.com': 1} 8\n"
     ]
    }
   ],
   "source": [
    "#prompt user for file name\n",
    "fname = input('Enter the file name: ')\n",
    "#attempt to open file\n",
    "try:\n",
    "    fhand = open(fname)\n",
    "#when file unable to open\n",
    "except:\n",
    "    print ('File cannot be opened:', fname)\n",
    "    exit()\n",
    "\n",
    "count = dict()  #make dictionary\n",
    "for line in fhand:  #loop through document\n",
    "    if line.startswith('From '):  #search for line that starts with  From\n",
    "        words = line.split()  #split line into word list\n",
    "        em = words[1]  #store email address \n",
    "        domain = em.split('@')[1]  #split email address with '@' delimiter and store domain\n",
    "        if domain not in count:  #add domain to dictionary and mark its count\n",
    "            count[domain] = 1\n",
    "        else:  #or add 1 to dictionary match count\n",
    "            count[domain] = count[domain] +1\n",
    "print (count, count[domain])"
   ]
  }
 ],
 "metadata": {
  "kernelspec": {
   "display_name": "Python 3",
   "language": "python",
   "name": "python3"
  },
  "language_info": {
   "codemirror_mode": {
    "name": "ipython",
    "version": 3
   },
   "file_extension": ".py",
   "mimetype": "text/x-python",
   "name": "python",
   "nbconvert_exporter": "python",
   "pygments_lexer": "ipython3",
   "version": "3.6.8"
  }
 },
 "nbformat": 4,
 "nbformat_minor": 2
}
