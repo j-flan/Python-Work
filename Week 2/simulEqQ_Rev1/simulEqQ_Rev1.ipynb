{
 "cells": [
  {
   "cell_type": "markdown",
   "metadata": {},
   "source": [
    "![title](images/eq.jpg)"
   ]
  },
  {
   "cell_type": "markdown",
   "metadata": {},
   "source": [
    "Solve the following Linear Eauations (Consider using np.linalg.solv() of numpy):\n",
    "\n",
    "1)\n",
    "\n",
    "-x + 2y = 0\n",
    "\n",
    "x +  y = 3\n",
    " \n",
    "2)\n",
    "\n",
    "3x - 9y = -42\n",
    "\n",
    "2x + 4y = 2\n",
    "\n",
    "3)\n",
    "\n",
    "x - 2y - z = 6\n",
    " \n",
    "2x + 2y = z + 1\n",
    "\n",
    "2z - 1 = y + x\n",
    "         \n",
    " \n",
    " "
   ]
  },
  {
   "cell_type": "code",
   "execution_count": 1,
   "metadata": {},
   "outputs": [
    {
     "data": {
      "text/plain": [
       "array([2., 3.])"
      ]
     },
     "execution_count": 1,
     "metadata": {},
     "output_type": "execute_result"
    }
   ],
   "source": [
    "# Example\n",
    "# Solve the system of equations 3 * x0 + x1 = 9 and x0 + 2 * x1 = 8:\n",
    "import numpy as np\n",
    "a = np.array([[3,1], [1,2]])\n",
    "b = np.array([9,8])\n",
    "x = np.linalg.solve(a, b)\n",
    "x"
   ]
  },
  {
   "cell_type": "code",
   "execution_count": 2,
   "metadata": {},
   "outputs": [
    {
     "data": {
      "text/plain": [
       "array([2., 1.])"
      ]
     },
     "execution_count": 2,
     "metadata": {},
     "output_type": "execute_result"
    }
   ],
   "source": [
    "# Solution to Question 1\n",
    "# Solve the system of equations -x + 2y = 0 and x + y = 3:\n",
    "import numpy as np\n",
    "a = np.array([[-1, 2], [1, 1]])\n",
    "b = np.array([0, 3])\n",
    "x = np.linalg.solve(a, b)\n",
    "x"
   ]
  },
  {
   "cell_type": "code",
   "execution_count": null,
   "metadata": {},
   "outputs": [],
   "source": []
  }
 ],
 "metadata": {
  "kernelspec": {
   "display_name": "Python 3",
   "language": "python",
   "name": "python3"
  },
  "language_info": {
   "codemirror_mode": {
    "name": "ipython",
    "version": 3
   },
   "file_extension": ".py",
   "mimetype": "text/x-python",
   "name": "python",
   "nbconvert_exporter": "python",
   "pygments_lexer": "ipython3",
   "version": "3.7.1"
  }
 },
 "nbformat": 4,
 "nbformat_minor": 1
}
